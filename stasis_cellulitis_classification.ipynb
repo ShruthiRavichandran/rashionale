{
 "cells": [
  {
   "cell_type": "markdown",
   "metadata": {},
   "source": [
    "# Import Libraries"
   ]
  },
  {
   "cell_type": "code",
   "execution_count": 1,
   "metadata": {
    "collapsed": true
   },
   "outputs": [],
   "source": [
    "import os,shutil\n",
    "import matplotlib.pyplot as plt\n",
    "from sklearn.metrics import roc_curve, roc_auc_score"
   ]
  },
  {
   "cell_type": "markdown",
   "metadata": {},
   "source": [
    "# Create Directories for Small Data Set"
   ]
  },
  {
   "cell_type": "code",
   "execution_count": 2,
   "metadata": {
    "collapsed": true
   },
   "outputs": [],
   "source": [
    "#original_dataset_dir = '/Users/shruthiravi/Documents/Shruthi 9th grade/SkinLesionsSF18/cats_dogs/data_set/train'\n",
    "base_dir = '/Users/shruthiravi/Documents/11th_grade/poc_sc'"
   ]
  },
  {
   "cell_type": "code",
   "execution_count": 3,
   "metadata": {},
   "outputs": [
    {
     "ename": "FileExistsError",
     "evalue": "[Errno 17] File exists: '/Users/shruthiravi/Documents/11th_grade/poc_sc'",
     "output_type": "error",
     "traceback": [
      "\u001b[0;31m---------------------------------------------------------------------------\u001b[0m",
      "\u001b[0;31mFileExistsError\u001b[0m                           Traceback (most recent call last)",
      "\u001b[0;32m<ipython-input-3-60def556757e>\u001b[0m in \u001b[0;36m<module>\u001b[0;34m()\u001b[0m\n\u001b[0;32m----> 1\u001b[0;31m \u001b[0mos\u001b[0m\u001b[0;34m.\u001b[0m\u001b[0mmkdir\u001b[0m\u001b[0;34m(\u001b[0m\u001b[0mbase_dir\u001b[0m\u001b[0;34m)\u001b[0m\u001b[0;34m\u001b[0m\u001b[0m\n\u001b[0m",
      "\u001b[0;31mFileExistsError\u001b[0m: [Errno 17] File exists: '/Users/shruthiravi/Documents/11th_grade/poc_sc'"
     ]
    }
   ],
   "source": [
    "os.mkdir(base_dir)"
   ]
  },
  {
   "cell_type": "code",
   "execution_count": 24,
   "metadata": {},
   "outputs": [],
   "source": [
    "train_dir = os.path.join(base_dir, 'train')\n",
    "os.mkdir(train_dir)"
   ]
  },
  {
   "cell_type": "code",
   "execution_count": 25,
   "metadata": {},
   "outputs": [],
   "source": [
    "validation_dir = os.path.join(base_dir, 'validation')\n",
    "os.mkdir(validation_dir)"
   ]
  },
  {
   "cell_type": "code",
   "execution_count": 26,
   "metadata": {},
   "outputs": [],
   "source": [
    "test_dir = os.path.join(base_dir, 'test')\n",
    "os.mkdir(test_dir)"
   ]
  },
  {
   "cell_type": "code",
   "execution_count": 28,
   "metadata": {},
   "outputs": [],
   "source": [
    "train_stasis_dir = os.path.join(train_dir, 'stasis')\n",
    "os.mkdir(train_stasis_dir)"
   ]
  },
  {
   "cell_type": "code",
   "execution_count": 29,
   "metadata": {},
   "outputs": [],
   "source": [
    "train_cell_dir = os.path.join(train_dir, 'cell')\n",
    "os.mkdir(train_cell_dir)"
   ]
  },
  {
   "cell_type": "code",
   "execution_count": 30,
   "metadata": {},
   "outputs": [],
   "source": [
    "validation_stasis_dir = os.path.join(validation_dir, 'stasis')\n",
    "os.mkdir(validation_stasis_dir)"
   ]
  },
  {
   "cell_type": "code",
   "execution_count": 31,
   "metadata": {},
   "outputs": [],
   "source": [
    "validation_cell_dir = os.path.join(validation_dir, 'cell')\n",
    "os.mkdir(validation_cell_dir)"
   ]
  },
  {
   "cell_type": "code",
   "execution_count": 32,
   "metadata": {},
   "outputs": [],
   "source": [
    "test_stasis_dir = os.path.join(test_dir, 'stasis')\n",
    "os.mkdir(test_stasis_dir)"
   ]
  },
  {
   "cell_type": "code",
   "execution_count": 33,
   "metadata": {},
   "outputs": [],
   "source": [
    "test_cell_dir = os.path.join(test_dir, 'cell')\n",
    "os.mkdir(test_cell_dir)"
   ]
  },
  {
   "cell_type": "markdown",
   "metadata": {},
   "source": [
    "# Verify Image Counts"
   ]
  },
  {
   "cell_type": "code",
   "execution_count": 47,
   "metadata": {},
   "outputs": [
    {
     "name": "stdout",
     "output_type": "stream",
     "text": [
      "total training stasis images: 146\n"
     ]
    }
   ],
   "source": [
    "print('total training stasis images:', len(os.listdir(train_stasis_dir)))"
   ]
  },
  {
   "cell_type": "code",
   "execution_count": 48,
   "metadata": {},
   "outputs": [
    {
     "name": "stdout",
     "output_type": "stream",
     "text": [
      "total training cell images: 250\n"
     ]
    }
   ],
   "source": [
    "print('total training cell images:', len(os.listdir(train_exa_dir)))"
   ]
  },
  {
   "cell_type": "code",
   "execution_count": 53,
   "metadata": {},
   "outputs": [
    {
     "name": "stdout",
     "output_type": "stream",
     "text": [
      "total validation stasis images: 17\n"
     ]
    }
   ],
   "source": [
    "print('total validation stasis images:', len(os.listdir(validation_stasis_dir)))"
   ]
  },
  {
   "cell_type": "code",
   "execution_count": 54,
   "metadata": {},
   "outputs": [
    {
     "name": "stdout",
     "output_type": "stream",
     "text": [
      "total validation cell images: 41\n"
     ]
    }
   ],
   "source": [
    "print('total validation cell images:', len(os.listdir(validation_cell_dir)))"
   ]
  },
  {
   "cell_type": "code",
   "execution_count": 57,
   "metadata": {},
   "outputs": [
    {
     "name": "stdout",
     "output_type": "stream",
     "text": [
      "total test stasis images: 46\n"
     ]
    }
   ],
   "source": [
    "print('total test stasis images:', len(os.listdir(test_stasis_dir)))"
   ]
  },
  {
   "cell_type": "code",
   "execution_count": 58,
   "metadata": {},
   "outputs": [
    {
     "name": "stdout",
     "output_type": "stream",
     "text": [
      "total test cell images: 53\n"
     ]
    }
   ],
   "source": [
    "print('total test cell images:', len(os.listdir(test_cell_dir)))"
   ]
  },
  {
   "cell_type": "markdown",
   "metadata": {},
   "source": [
    "# Data Preprocessing: Create Image Batch Generators"
   ]
  },
  {
   "cell_type": "code",
   "execution_count": 59,
   "metadata": {},
   "outputs": [
    {
     "name": "stderr",
     "output_type": "stream",
     "text": [
      "Using TensorFlow backend.\n"
     ]
    }
   ],
   "source": [
    "from keras.preprocessing.image import ImageDataGenerator"
   ]
  },
  {
   "cell_type": "code",
   "execution_count": 60,
   "metadata": {
    "collapsed": true
   },
   "outputs": [],
   "source": [
    "train_datagen = ImageDataGenerator(rescale=1./255)\n",
    "test_datagen = ImageDataGenerator(rescale=1./255)"
   ]
  },
  {
   "cell_type": "code",
   "execution_count": 61,
   "metadata": {},
   "outputs": [
    {
     "name": "stdout",
     "output_type": "stream",
     "text": [
      "Found 394 images belonging to 2 classes.\n"
     ]
    }
   ],
   "source": [
    "train_generator = train_datagen.flow_from_directory(\n",
    "    train_dir,\n",
    "    target_size=(150,150),\n",
    "    batch_size=20,\n",
    "    class_mode='binary')"
   ]
  },
  {
   "cell_type": "code",
   "execution_count": 62,
   "metadata": {},
   "outputs": [
    {
     "name": "stdout",
     "output_type": "stream",
     "text": [
      "Found 56 images belonging to 2 classes.\n"
     ]
    }
   ],
   "source": [
    "validation_generator = test_datagen.flow_from_directory(\n",
    "    validation_dir,\n",
    "    target_size=(150,150),\n",
    "    batch_size=20,\n",
    "    class_mode='binary')"
   ]
  },
  {
   "cell_type": "code",
   "execution_count": 63,
   "metadata": {},
   "outputs": [
    {
     "name": "stdout",
     "output_type": "stream",
     "text": [
      "data batch shape: (20, 150, 150, 3)\n",
      "labels batch shape: (20,)\n"
     ]
    }
   ],
   "source": [
    "for data_batch, labels_batch in train_generator:\n",
    "    print('data batch shape:', data_batch.shape)\n",
    "    print('labels batch shape:', labels_batch.shape)\n",
    "    break"
   ]
  },
  {
   "cell_type": "code",
   "execution_count": 64,
   "metadata": {},
   "outputs": [
    {
     "data": {
      "text/plain": [
       "(20, 150, 150, 3)"
      ]
     },
     "execution_count": 64,
     "metadata": {},
     "output_type": "execute_result"
    }
   ],
   "source": [
    "data_batch.shape"
   ]
  },
  {
   "cell_type": "code",
   "execution_count": 65,
   "metadata": {},
   "outputs": [
    {
     "data": {
      "text/plain": [
       "1.0"
      ]
     },
     "execution_count": 65,
     "metadata": {},
     "output_type": "execute_result"
    }
   ],
   "source": [
    "labels_batch[1]"
   ]
  },
  {
   "cell_type": "markdown",
   "metadata": {},
   "source": [
    "# Define the Model"
   ]
  },
  {
   "cell_type": "code",
   "execution_count": 66,
   "metadata": {
    "collapsed": true
   },
   "outputs": [],
   "source": [
    "from keras import layers\n",
    "from keras import models\n",
    "\n",
    "model = models.Sequential()\n",
    "model.add(layers.Conv2D(32,(3,3), activation = 'relu',\n",
    "                       input_shape=(150,150,3)))\n",
    "model.add(layers.MaxPooling2D((2,2)))\n",
    "model.add(layers.Conv2D(64,(3,3), activation='relu'))\n",
    "model.add(layers.MaxPooling2D((2,2)))\n",
    "model.add(layers.Conv2D(128,(3,3), activation='relu'))\n",
    "model.add(layers.MaxPooling2D((2,2)))\n",
    "model.add(layers.Conv2D(128,(3,3), activation='relu'))\n",
    "model.add(layers.MaxPooling2D((2,2)))\n",
    "model.add(layers.Flatten())\n",
    "model.add(layers.Dense(512, activation = 'relu'))\n",
    "model.add(layers.Dense(1,activation='sigmoid'))"
   ]
  },
  {
   "cell_type": "code",
   "execution_count": 67,
   "metadata": {},
   "outputs": [
    {
     "name": "stdout",
     "output_type": "stream",
     "text": [
      "_________________________________________________________________\n",
      "Layer (type)                 Output Shape              Param #   \n",
      "=================================================================\n",
      "conv2d_1 (Conv2D)            (None, 148, 148, 32)      896       \n",
      "_________________________________________________________________\n",
      "max_pooling2d_1 (MaxPooling2 (None, 74, 74, 32)        0         \n",
      "_________________________________________________________________\n",
      "conv2d_2 (Conv2D)            (None, 72, 72, 64)        18496     \n",
      "_________________________________________________________________\n",
      "max_pooling2d_2 (MaxPooling2 (None, 36, 36, 64)        0         \n",
      "_________________________________________________________________\n",
      "conv2d_3 (Conv2D)            (None, 34, 34, 128)       73856     \n",
      "_________________________________________________________________\n",
      "max_pooling2d_3 (MaxPooling2 (None, 17, 17, 128)       0         \n",
      "_________________________________________________________________\n",
      "conv2d_4 (Conv2D)            (None, 15, 15, 128)       147584    \n",
      "_________________________________________________________________\n",
      "max_pooling2d_4 (MaxPooling2 (None, 7, 7, 128)         0         \n",
      "_________________________________________________________________\n",
      "flatten_1 (Flatten)          (None, 6272)              0         \n",
      "_________________________________________________________________\n",
      "dense_1 (Dense)              (None, 512)               3211776   \n",
      "_________________________________________________________________\n",
      "dense_2 (Dense)              (None, 1)                 513       \n",
      "=================================================================\n",
      "Total params: 3,453,121\n",
      "Trainable params: 3,453,121\n",
      "Non-trainable params: 0\n",
      "_________________________________________________________________\n"
     ]
    }
   ],
   "source": [
    "model.summary()"
   ]
  },
  {
   "cell_type": "markdown",
   "metadata": {},
   "source": [
    "### Configuring model for training"
   ]
  },
  {
   "cell_type": "code",
   "execution_count": 68,
   "metadata": {
    "collapsed": true
   },
   "outputs": [],
   "source": [
    "from keras import optimizers\n",
    "\n",
    "model.compile(loss='binary_crossentropy',\n",
    "             optimizer=optimizers.RMSprop(lr=1e-4),\n",
    "             metrics=['acc'])"
   ]
  },
  {
   "cell_type": "markdown",
   "metadata": {},
   "source": [
    "# Fitting model using Batch Generator"
   ]
  },
  {
   "cell_type": "code",
   "execution_count": null,
   "metadata": {},
   "outputs": [
    {
     "name": "stdout",
     "output_type": "stream",
     "text": [
      "Epoch 1/20\n",
      "100/100 [==============================] - 174s 2s/step - loss: 0.6282 - acc: 0.6453 - val_loss: 0.5552 - val_acc: 0.7318\n",
      "Epoch 2/20\n",
      "100/100 [==============================] - 160s 2s/step - loss: 0.5541 - acc: 0.7114 - val_loss: 0.5454 - val_acc: 0.6752\n",
      "Epoch 3/20\n",
      "100/100 [==============================] - 165s 2s/step - loss: 0.4992 - acc: 0.7604 - val_loss: 0.5535 - val_acc: 0.6774\n",
      "Epoch 4/20\n",
      "100/100 [==============================] - 167s 2s/step - loss: 0.4380 - acc: 0.8024 - val_loss: 0.6008 - val_acc: 0.6442\n",
      "Epoch 5/20\n",
      "100/100 [==============================] - 155s 2s/step - loss: 0.3797 - acc: 0.8476 - val_loss: 0.5738 - val_acc: 0.7489\n",
      "Epoch 6/20\n",
      "100/100 [==============================] - 138s 1s/step - loss: 0.3000 - acc: 0.8846 - val_loss: 0.6235 - val_acc: 0.6966\n",
      "Epoch 7/20\n",
      "100/100 [==============================] - 1595s 16s/step - loss: 0.2488 - acc: 0.9102 - val_loss: 0.6477 - val_acc: 0.7137\n",
      "Epoch 8/20\n",
      "100/100 [==============================] - 147s 1s/step - loss: 0.1956 - acc: 0.9299 - val_loss: 1.1007 - val_acc: 0.5908\n",
      "Epoch 9/20\n",
      "100/100 [==============================] - 10963s 110s/step - loss: 0.1565 - acc: 0.9440 - val_loss: 0.7832 - val_acc: 0.6068\n",
      "Epoch 10/20\n",
      "100/100 [==============================] - 7352s 74s/step - loss: 0.1183 - acc: 0.9636 - val_loss: 0.8453 - val_acc: 0.6581\n",
      "Epoch 11/20\n",
      "100/100 [==============================] - 149s 1s/step - loss: 0.0898 - acc: 0.9730 - val_loss: 0.8478 - val_acc: 0.7297\n",
      "Epoch 12/20\n",
      "100/100 [==============================] - 146s 1s/step - loss: 0.0791 - acc: 0.9753 - val_loss: 1.1541 - val_acc: 0.5726\n",
      "Epoch 13/20\n",
      "100/100 [==============================] - 155s 2s/step - loss: 0.0590 - acc: 0.9835 - val_loss: 1.0420 - val_acc: 0.6806\n",
      "Epoch 14/20\n",
      "100/100 [==============================] - 163s 2s/step - loss: 0.0654 - acc: 0.9815 - val_loss: 0.7101 - val_acc: 0.8034\n",
      "Epoch 15/20\n",
      "100/100 [==============================] - 145s 1s/step - loss: 0.0436 - acc: 0.9868 - val_loss: 1.0741 - val_acc: 0.7318\n",
      "Epoch 16/20\n",
      "100/100 [==============================] - 140s 1s/step - loss: 0.0478 - acc: 0.9846 - val_loss: 1.0968 - val_acc: 0.6624\n",
      "Epoch 17/20\n",
      "100/100 [==============================] - 140s 1s/step - loss: 0.0404 - acc: 0.9883 - val_loss: 0.9319 - val_acc: 0.8034\n",
      "Epoch 18/20\n",
      "100/100 [==============================] - 139s 1s/step - loss: 0.0394 - acc: 0.9900 - val_loss: 1.0860 - val_acc: 0.6966\n",
      "Epoch 19/20\n",
      "100/100 [==============================] - 140s 1s/step - loss: 0.0313 - acc: 0.9895 - val_loss: 1.0156 - val_acc: 0.7874\n",
      "Epoch 20/20\n",
      "100/100 [==============================] - 139s 1s/step - loss: 0.0329 - acc: 0.9893 - val_loss: 1.4269 - val_acc: 0.6271\n"
     ]
    }
   ],
   "source": [
    "history = model.fit_generator(\n",
    "    train_generator,\n",
    "    steps_per_epoch=100,\n",
    "    epochs=20,\n",
    "    validation_data=validation_generator,\n",
    "    validation_steps=50)"
   ]
  },
  {
   "cell_type": "code",
   "execution_count": null,
   "metadata": {
    "collapsed": true
   },
   "outputs": [],
   "source": [
    "model.save('stasis_cell_1.h5')"
   ]
  },
  {
   "cell_type": "code",
   "execution_count": 56,
   "metadata": {
    "collapsed": true
   },
   "outputs": [],
   "source": [
    "def plot_precision_recall_vs_threshold(precisions, recalls, thresholds):\n",
    "    plt.plot(thresholds, precisions[:-1], \"b--\", label=\"Precision\")\n",
    "    plt.plot(thresholds, recalls[:-1], \"g-\", label=\"Recall\")\n",
    "    plt.xlabel(\"Threshold\")\n",
    "    plt.legend()\n",
    "    plt.xlim([-70000, 70000])\n",
    "    plt.ylim([0, 1])\n",
    "\n",
    "\n",
    "def plot_precision_vs_recall(precisions, recalls):\n",
    "    plt.plot(recalls, precisions, \"b-\")  # b- means blue not dashed\n",
    "    plt.xlabel(\"Recall\")\n",
    "    plt.ylabel(\"Precision\")\n",
    "    plt.xlim([0, 1])\n",
    "    plt.ylim([0, 1])\n",
    "\n",
    "\n",
    "def plot_roc_curve(fpr, tpr, label=None):\n",
    "    plt.plot(fpr, tpr, linewidth=2, label=label)\n",
    "    plt.plot([0, 1], [0, 1], 'k--')  # dashed diagonal\n",
    "    plt.title(\"ROC Curve\")\n",
    "    plt.xlabel(\"False Positive Rate\")\n",
    "    plt.ylabel(\"True Positive Rate (Recall)\")\n",
    "    plt.xlim([0, 1])\n",
    "    plt.ylim([0, 1])"
   ]
  },
  {
   "cell_type": "code",
   "execution_count": 57,
   "metadata": {},
   "outputs": [
    {
     "ename": "TypeError",
     "evalue": "plot_roc_curve() missing 2 required positional arguments: 'fpr' and 'tpr'",
     "output_type": "error",
     "traceback": [
      "\u001b[0;31m---------------------------------------------------------------------------\u001b[0m",
      "\u001b[0;31mTypeError\u001b[0m                                 Traceback (most recent call last)",
      "\u001b[0;32m<ipython-input-57-cc74a9d28950>\u001b[0m in \u001b[0;36m<module>\u001b[0;34m()\u001b[0m\n\u001b[0;32m----> 1\u001b[0;31m \u001b[0mplot_roc_curve\u001b[0m\u001b[0;34m(\u001b[0m\u001b[0;34m)\u001b[0m\u001b[0;34m\u001b[0m\u001b[0m\n\u001b[0m",
      "\u001b[0;31mTypeError\u001b[0m: plot_roc_curve() missing 2 required positional arguments: 'fpr' and 'tpr'"
     ]
    }
   ],
   "source": [
    "plot_roc_curve()"
   ]
  },
  {
   "cell_type": "markdown",
   "metadata": {},
   "source": [
    "# Making a graph"
   ]
  },
  {
   "cell_type": "code",
   "execution_count": 32,
   "metadata": {
    "collapsed": true
   },
   "outputs": [],
   "source": [
    "import matplotlib.pyplot as plt"
   ]
  },
  {
   "cell_type": "code",
   "execution_count": 43,
   "metadata": {
    "scrolled": true
   },
   "outputs": [
    {
     "data": {
      "text/plain": [
       "{'acc': [0.59581152002536819,\n",
       "  0.73821989801853738,\n",
       "  0.82984293193717273,\n",
       "  0.85194805225768644,\n",
       "  0.88759894012461238,\n",
       "  0.9052355993168516,\n",
       "  0.93193716856197539,\n",
       "  0.9428571380578078,\n",
       "  0.95445025466499533,\n",
       "  0.96623376127961391,\n",
       "  0.98153033923347899,\n",
       "  0.98219895050787798,\n",
       "  0.98638743318188249,\n",
       "  0.98909090896705532,\n",
       "  0.99267015719288931,\n",
       "  0.99005235583370266,\n",
       "  0.99633507828437851,\n",
       "  0.99476439806179229,\n",
       "  0.9942857136974087,\n",
       "  0.99630606897902674],\n",
       " 'loss': [0.65777834813008129,\n",
       "  0.54699216221327562,\n",
       "  0.42521151705250065,\n",
       "  0.35032023928769224,\n",
       "  0.29073174445248529,\n",
       "  0.22943141892630392,\n",
       "  0.17997835497542514,\n",
       "  0.1469591499850541,\n",
       "  0.1136235669876951,\n",
       "  0.094936818327125791,\n",
       "  0.060401536105438698,\n",
       "  0.055505002920725507,\n",
       "  0.042954180100890055,\n",
       "  0.032712897025774436,\n",
       "  0.025281624478000843,\n",
       "  0.0281950870322,\n",
       "  0.012506312035496228,\n",
       "  0.019086492912729656,\n",
       "  0.019336349907822389,\n",
       "  0.015552094210586245],\n",
       " 'val_acc': [0.71509009217088282,\n",
       "  0.70608108047697993,\n",
       "  0.72635135061300549,\n",
       "  0.71509008995584544,\n",
       "  0.61711711812395231,\n",
       "  0.74099099045401218,\n",
       "  0.65202703098724557,\n",
       "  0.78378378754263522,\n",
       "  0.72747747935690321,\n",
       "  0.75450450718939843,\n",
       "  0.73536035901791341,\n",
       "  0.72297297042232378,\n",
       "  0.71734234140262942,\n",
       "  0.73761261368657016,\n",
       "  0.73761261086743157,\n",
       "  0.73423423356301076,\n",
       "  0.72184684664547982,\n",
       "  0.69369369396218306,\n",
       "  0.72409909980388376,\n",
       "  0.72860360534878466],\n",
       " 'val_loss': [0.64817808971211721,\n",
       "  0.61835729706663267,\n",
       "  0.66103652079363129,\n",
       "  0.68237916467426063,\n",
       "  1.2001916509759318,\n",
       "  0.95320502104791438,\n",
       "  1.4491334738427992,\n",
       "  0.94441670556510759,\n",
       "  1.2354110702872276,\n",
       "  1.175424421533338,\n",
       "  1.3630032232282936,\n",
       "  1.5476264081232518,\n",
       "  1.8305678970457331,\n",
       "  1.6696680238017358,\n",
       "  1.786881683713144,\n",
       "  1.8590080936959534,\n",
       "  1.8985004534038741,\n",
       "  2.2717817139115422,\n",
       "  2.2218821761575906,\n",
       "  2.1999905391990602]}"
      ]
     },
     "execution_count": 43,
     "metadata": {},
     "output_type": "execute_result"
    }
   ],
   "source": [
    "history.history"
   ]
  },
  {
   "cell_type": "code",
   "execution_count": null,
   "metadata": {
    "collapsed": true
   },
   "outputs": [],
   "source": [
    "def plot_roc_curve"
   ]
  },
  {
   "cell_type": "markdown",
   "metadata": {},
   "source": [
    "# Data Augmentation"
   ]
  },
  {
   "cell_type": "code",
   "execution_count": 70,
   "metadata": {
    "collapsed": true
   },
   "outputs": [],
   "source": [
    "datagen = ImageDataGenerator(\n",
    "    rotation_range=60,\n",
    "    width_shift_range=0.2,\n",
    "    height_shift_range=0.2,\n",
    "    shear_range=0.2,\n",
    "    zoom_range=0.2,\n",
    "    horizontal_flip=True,\n",
    "    fill_mode='nearest')"
   ]
  },
  {
   "cell_type": "code",
   "execution_count": 71,
   "metadata": {
    "collapsed": true
   },
   "outputs": [],
   "source": [
    "from keras.preprocessing import image"
   ]
  },
  {
   "cell_type": "code",
   "execution_count": 72,
   "metadata": {
    "collapsed": true
   },
   "outputs": [],
   "source": [
    "fnames = [os.path.join(train_stasis_dir, fname) for\n",
    "         fname in os.listdir(train_stasis_dir)]"
   ]
  },
  {
   "cell_type": "code",
   "execution_count": 73,
   "metadata": {
    "collapsed": true
   },
   "outputs": [],
   "source": [
    "img_path = fnames[3]"
   ]
  },
  {
   "cell_type": "code",
   "execution_count": 74,
   "metadata": {
    "collapsed": true
   },
   "outputs": [],
   "source": [
    "img = image.load_img(img_path, target_size=(150,150))"
   ]
  },
  {
   "cell_type": "code",
   "execution_count": 75,
   "metadata": {
    "collapsed": true
   },
   "outputs": [],
   "source": [
    "x = image.img_to_array(img)"
   ]
  },
  {
   "cell_type": "code",
   "execution_count": 76,
   "metadata": {
    "collapsed": true
   },
   "outputs": [],
   "source": [
    "x = x.reshape((1,) + x.shape)"
   ]
  },
  {
   "cell_type": "code",
   "execution_count": 77,
   "metadata": {
    "collapsed": true
   },
   "outputs": [],
   "source": [
    "i = 0\n",
    "for batch in datagen.flow(x,batch_size=1):\n",
    "    plt.figure(i)\n",
    "    imgplot = plt.imshow(image.array_to_img(batch[0]))\n",
    "    i += 1\n",
    "    if i % 4 == 0 :\n",
    "        break"
   ]
  },
  {
   "cell_type": "code",
   "execution_count": 78,
   "metadata": {},
   "outputs": [
    {
     "data": {
      "image/png": "[encoded data removed]",
      "text/plain": [
       "<matplotlib.figure.Figure at 0x112101e48>"
      ]
     },
     "metadata": {},
     "output_type": "display_data"
    },
    {
     "data": {
      "image/png": "[encoded data removed]",
      "text/plain": [
       "<matplotlib.figure.Figure at 0x116847d30>"
      ]
     },
     "metadata": {},
     "output_type": "display_data"
    },
    {
     "data": {
      "image/png": "[encoded data removed]",
      "text/plain": [
       "<matplotlib.figure.Figure at 0x10ddfe4a8>"
      ]
     },
     "metadata": {},
     "output_type": "display_data"
    },
    {
     "data": {
      "image/png": "[encoded data removed]",
      "text/plain": [
       "<matplotlib.figure.Figure at 0x10dcf8dd8>"
      ]
     },
     "metadata": {},
     "output_type": "display_data"
    }
   ],
   "source": [
    "plt.show()"
   ]
  },
  {
   "cell_type": "markdown",
   "metadata": {},
   "source": [
    "# Adding Dropout"
   ]
  },
  {
   "cell_type": "code",
   "execution_count": 79,
   "metadata": {
    "collapsed": true
   },
   "outputs": [],
   "source": [
    "from keras import layers\n",
    "from keras import models\n",
    "\n",
    "model = models.Sequential()\n",
    "model.add(layers.Conv2D(32,(3,3), activation = 'relu',\n",
    "                       input_shape=(150,150,3)))\n",
    "model.add(layers.MaxPooling2D((2,2)))\n",
    "model.add(layers.Conv2D(64,(3,3), activation='relu'))\n",
    "model.add(layers.MaxPooling2D((2,2)))\n",
    "model.add(layers.Conv2D(128,(3,3), activation='relu'))\n",
    "model.add(layers.MaxPooling2D((2,2)))\n",
    "model.add(layers.Conv2D(128,(3,3), activation='relu'))\n",
    "model.add(layers.MaxPooling2D((2,2)))\n",
    "model.add(layers.Flatten())\n",
    "model.add(layers.Dropout(0.5))\n",
    "model.add(layers.Dense(512, activation = 'relu'))\n",
    "model.add(layers.Dense(1,activation='sigmoid'))\n",
    "\n",
    "model.compile(loss='binary_crossentropy',\n",
    "             optimizer=optimizers.RMSprop(lr=1e-4),\n",
    "             metrics=['acc'])"
   ]
  },
  {
   "cell_type": "code",
   "execution_count": 80,
   "metadata": {
    "collapsed": true
   },
   "outputs": [],
   "source": [
    "train_datagen = ImageDataGenerator (\n",
    "    rescale=1./255,\n",
    "    rotation_range=40,\n",
    "    height_shift_range=0.2,\n",
    "    shear_range=0.2,\n",
    "    zoom_range=-.2,\n",
    "    horizontal_flip=True,)"
   ]
  },
  {
   "cell_type": "code",
   "execution_count": 81,
   "metadata": {
    "collapsed": true
   },
   "outputs": [],
   "source": [
    "test_datagen = ImageDataGenerator(rescale=1./255)"
   ]
  },
  {
   "cell_type": "code",
   "execution_count": 82,
   "metadata": {},
   "outputs": [
    {
     "name": "stdout",
     "output_type": "stream",
     "text": [
      "Found 394 images belonging to 2 classes.\n"
     ]
    }
   ],
   "source": [
    "train_generator = train_datagen.flow_from_directory(\n",
    "    train_dir,\n",
    "    target_size=(150,150),\n",
    "    batch_size=20,\n",
    "    class_mode='binary')"
   ]
  },
  {
   "cell_type": "code",
   "execution_count": 83,
   "metadata": {},
   "outputs": [
    {
     "name": "stdout",
     "output_type": "stream",
     "text": [
      "Found 56 images belonging to 2 classes.\n"
     ]
    }
   ],
   "source": [
    "validation_generator = test_datagen.flow_from_directory(\n",
    "    validation_dir,\n",
    "    target_size=(150,150),\n",
    "    batch_size=20,\n",
    "    class_mode='binary')"
   ]
  },
  {
   "cell_type": "code",
   "execution_count": null,
   "metadata": {},
   "outputs": [
    {
     "name": "stdout",
     "output_type": "stream",
     "text": [
      "Epoch 1/20\n",
      "100/100 [==============================] - 152s 2s/step - loss: 0.4449 - acc: 0.7814 - val_loss: 0.5470 - val_acc: 0.7147\n",
      "Epoch 2/20\n",
      "100/100 [==============================] - 140s 1s/step - loss: 0.4480 - acc: 0.7894 - val_loss: 0.6064 - val_acc: 0.6795\n",
      "Epoch 3/20\n",
      "100/100 [==============================] - 146s 1s/step - loss: 0.4384 - acc: 0.7908 - val_loss: 0.6173 - val_acc: 0.6806\n",
      "Epoch 4/20\n",
      "100/100 [==============================] - 145s 1s/step - loss: 0.4397 - acc: 0.7929 - val_loss: 0.5979 - val_acc: 0.7318\n",
      "Epoch 5/20\n",
      "100/100 [==============================] - 146s 1s/step - loss: 0.4380 - acc: 0.7812 - val_loss: 0.7450 - val_acc: 0.6966\n",
      "Epoch 6/20\n",
      "100/100 [==============================] - 148s 1s/step - loss: 0.4211 - acc: 0.7998 - val_loss: 0.5759 - val_acc: 0.6806\n",
      "Epoch 7/20\n",
      "100/100 [==============================] - 149s 1s/step - loss: 0.4250 - acc: 0.8080 - val_loss: 0.5797 - val_acc: 0.7329\n",
      "Epoch 8/20\n",
      "100/100 [==============================] - 146s 1s/step - loss: 0.4171 - acc: 0.7957 - val_loss: 0.6315 - val_acc: 0.6966\n",
      "Epoch 9/20\n",
      "100/100 [==============================] - 410s 4s/step - loss: 0.4137 - acc: 0.7956 - val_loss: 0.5691 - val_acc: 0.7329\n",
      "Epoch 10/20\n",
      "100/100 [==============================] - 144s 1s/step - loss: 0.4044 - acc: 0.8128 - val_loss: 0.5722 - val_acc: 0.7329\n",
      "Epoch 11/20\n",
      "100/100 [==============================] - 139s 1s/step - loss: 0.4021 - acc: 0.8107 - val_loss: 0.6081 - val_acc: 0.6955\n",
      "Epoch 12/20\n",
      "100/100 [==============================] - 4704s 47s/step - loss: 0.3881 - acc: 0.8179 - val_loss: 0.6038 - val_acc: 0.7147\n",
      "Epoch 13/20\n",
      "100/100 [==============================] - 11569s 116s/step - loss: 0.3932 - acc: 0.8072 - val_loss: 0.6331 - val_acc: 0.6934\n",
      "Epoch 14/20\n",
      "100/100 [==============================] - 8944s 89s/step - loss: 0.3766 - acc: 0.8253 - val_loss: 0.6511 - val_acc: 0.7137\n",
      "Epoch 15/20\n",
      "100/100 [==============================] - 147s 1s/step - loss: 0.3788 - acc: 0.8271 - val_loss: 0.5938 - val_acc: 0.6613\n",
      "Epoch 16/20\n",
      "100/100 [==============================] - 150s 1s/step - loss: 0.3722 - acc: 0.8286 - val_loss: 0.6251 - val_acc: 0.7115\n",
      "Epoch 17/20\n",
      "100/100 [==============================] - 3972s 40s/step - loss: 0.3631 - acc: 0.8354 - val_loss: 0.5870 - val_acc: 0.6955\n",
      "Epoch 18/20\n",
      "100/100 [==============================] - 176s 2s/step - loss: 0.3566 - acc: 0.8429 - val_loss: 0.6503 - val_acc: 0.6784\n",
      "Epoch 19/20\n",
      "100/100 [==============================] - 170s 2s/step - loss: 0.3578 - acc: 0.8514 - val_loss: 0.6826 - val_acc: 0.6624\n",
      "Epoch 20/20\n",
      "100/100 [==============================] - 148s 1s/step - loss: 0.3467 - acc: 0.8530 - val_loss: 0.6862 - val_acc: 0.6827\n"
     ]
    }
   ],
   "source": [
    "history = model.fit_generator(\n",
    "    train_generator,\n",
    "    steps_per_epoch=100,\n",
    "    epochs=20,\n",
    "    validation_data=validation_generator,\n",
    "    validation_steps=50)"
   ]
  },
  {
   "cell_type": "code",
   "execution_count": 2,
   "metadata": {},
   "outputs": [
    {
     "ename": "NameError",
     "evalue": "name 'model' is not defined",
     "output_type": "error",
     "traceback": [
      "\u001b[0;31m---------------------------------------------------------------------------\u001b[0m",
      "\u001b[0;31mNameError\u001b[0m                                 Traceback (most recent call last)",
      "\u001b[0;32m<ipython-input-2-7c8b233dc4fe>\u001b[0m in \u001b[0;36m<module>\u001b[0;34m()\u001b[0m\n\u001b[0;32m----> 1\u001b[0;31m \u001b[0mmodel\u001b[0m\u001b[0;34m.\u001b[0m\u001b[0msave\u001b[0m\u001b[0;34m(\u001b[0m\u001b[0;34m'cats_and_dogs_2.h5'\u001b[0m\u001b[0;34m)\u001b[0m\u001b[0;34m\u001b[0m\u001b[0m\n\u001b[0m",
      "\u001b[0;31mNameError\u001b[0m: name 'model' is not defined"
     ]
    }
   ],
   "source": [
    "model.save('cats_and_dogs_2.h5')"
   ]
  },
  {
   "cell_type": "markdown",
   "metadata": {},
   "source": [
    "# Importing VGG16 Model"
   ]
  },
  {
   "cell_type": "code",
   "execution_count": 44,
   "metadata": {
    "collapsed": true
   },
   "outputs": [],
   "source": [
    "from keras.applications import VGG16"
   ]
  },
  {
   "cell_type": "code",
   "execution_count": 45,
   "metadata": {
    "collapsed": true
   },
   "outputs": [],
   "source": [
    "conv_base = VGG16(weights='imagenet',\n",
    "                  include_top=False,\n",
    "                  input_shape=(150,150,3))"
   ]
  },
  {
   "cell_type": "code",
   "execution_count": 46,
   "metadata": {},
   "outputs": [
    {
     "name": "stdout",
     "output_type": "stream",
     "text": [
      "_________________________________________________________________\n",
      "Layer (type)                 Output Shape              Param #   \n",
      "=================================================================\n",
      "input_1 (InputLayer)         (None, 150, 150, 3)       0         \n",
      "_________________________________________________________________\n",
      "block1_conv1 (Conv2D)        (None, 150, 150, 64)      1792      \n",
      "_________________________________________________________________\n",
      "block1_conv2 (Conv2D)        (None, 150, 150, 64)      36928     \n",
      "_________________________________________________________________\n",
      "block1_pool (MaxPooling2D)   (None, 75, 75, 64)        0         \n",
      "_________________________________________________________________\n",
      "block2_conv1 (Conv2D)        (None, 75, 75, 128)       73856     \n",
      "_________________________________________________________________\n",
      "block2_conv2 (Conv2D)        (None, 75, 75, 128)       147584    \n",
      "_________________________________________________________________\n",
      "block2_pool (MaxPooling2D)   (None, 37, 37, 128)       0         \n",
      "_________________________________________________________________\n",
      "block3_conv1 (Conv2D)        (None, 37, 37, 256)       295168    \n",
      "_________________________________________________________________\n",
      "block3_conv2 (Conv2D)        (None, 37, 37, 256)       590080    \n",
      "_________________________________________________________________\n",
      "block3_conv3 (Conv2D)        (None, 37, 37, 256)       590080    \n",
      "_________________________________________________________________\n",
      "block3_pool (MaxPooling2D)   (None, 18, 18, 256)       0         \n",
      "_________________________________________________________________\n",
      "block4_conv1 (Conv2D)        (None, 18, 18, 512)       1180160   \n",
      "_________________________________________________________________\n",
      "block4_conv2 (Conv2D)        (None, 18, 18, 512)       2359808   \n",
      "_________________________________________________________________\n",
      "block4_conv3 (Conv2D)        (None, 18, 18, 512)       2359808   \n",
      "_________________________________________________________________\n",
      "block4_pool (MaxPooling2D)   (None, 9, 9, 512)         0         \n",
      "_________________________________________________________________\n",
      "block5_conv1 (Conv2D)        (None, 9, 9, 512)         2359808   \n",
      "_________________________________________________________________\n",
      "block5_conv2 (Conv2D)        (None, 9, 9, 512)         2359808   \n",
      "_________________________________________________________________\n",
      "block5_conv3 (Conv2D)        (None, 9, 9, 512)         2359808   \n",
      "_________________________________________________________________\n",
      "block5_pool (MaxPooling2D)   (None, 4, 4, 512)         0         \n",
      "=================================================================\n",
      "Total params: 14,714,688\n",
      "Trainable params: 14,714,688\n",
      "Non-trainable params: 0\n",
      "_________________________________________________________________\n"
     ]
    }
   ],
   "source": [
    "conv_base.summary()"
   ]
  },
  {
   "cell_type": "code",
   "execution_count": null,
   "metadata": {
    "collapsed": true
   },
   "outputs": [],
   "source": []
  }
 ],
 "metadata": {
  "kernelspec": {
   "display_name": "Python 3",
   "language": "python",
   "name": "python3"
  },
  "language_info": {
   "codemirror_mode": {
    "name": "ipython",
    "version": 3
   },
   "file_extension": ".py",
   "mimetype": "text/x-python",
   "name": "python",
   "nbconvert_exporter": "python",
   "pygments_lexer": "ipython3",
   "version": "3.7.6"
  }
 },
 "nbformat": 4,
 "nbformat_minor": 2
}
